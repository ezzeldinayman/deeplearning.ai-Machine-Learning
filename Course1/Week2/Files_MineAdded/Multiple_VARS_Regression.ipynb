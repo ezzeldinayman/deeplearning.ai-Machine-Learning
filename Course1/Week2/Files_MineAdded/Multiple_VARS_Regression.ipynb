{
 "cells": [
  {
   "cell_type": "code",
   "execution_count": 1,
   "id": "2cb893ea",
   "metadata": {},
   "outputs": [],
   "source": [
    "import copy, math\n",
    "import numpy as np\n",
    "import matplotlib.pyplot as plt\n",
    "np.set_printoptions(precision = 2)"
   ]
  },
  {
   "cell_type": "code",
   "execution_count": 3,
   "id": "b13efcbc",
   "metadata": {},
   "outputs": [],
   "source": [
    "X_train = np.array([[2104, 5,1,45],[1416,3,2,40],[852,2,1,35]])\n",
    "Y_train = np.array([460,232,178])"
   ]
  },
  {
   "cell_type": "code",
   "execution_count": 11,
   "id": "45ca883c",
   "metadata": {},
   "outputs": [
    {
     "name": "stdout",
     "output_type": "stream",
     "text": [
      "X_shape = (3, 4)\n",
      "Y_shape = (3,)\n",
      "\n",
      "X_train = \n",
      "[[2104    5    1   45]\n",
      " [1416    3    2   40]\n",
      " [ 852    2    1   35]]\n",
      "Y_train = \n",
      "[460 232 178]\n",
      "<class 'numpy.ndarray'>\n",
      "<class 'numpy.ndarray'>\n"
     ]
    }
   ],
   "source": [
    "print(f\"X_shape = {X_train.shape}\\nY_shape = {Y_train.shape}\\n\")\n",
    "print(f\"X_train = \\n{X_train}\\nY_train = \\n{Y_train}\")\n",
    "print(type(X_train))\n",
    "print(type(Y_train))"
   ]
  },
  {
   "cell_type": "code",
   "execution_count": 43,
   "id": "79ef49cb",
   "metadata": {},
   "outputs": [],
   "source": [
    "b_init = 785.1811367994083\n",
    "w_init = np.array([0.39133535,18.75376741,-53.36032453,-26.42131618])"
   ]
  },
  {
   "cell_type": "code",
   "execution_count": 44,
   "id": "47634997",
   "metadata": {},
   "outputs": [],
   "source": [
    "#Computes the predicted value for one training example by multiplying all w[i] and corresponding x[i] then adding b\n",
    "#p = np.dot(x,w) + b\n",
    "def predict_single_loop(x, w, b):\n",
    "    n = x.shape[0]\n",
    "    p = 0\n",
    "    for i in range(n):\n",
    "        p_i = x[i]*w[i]\n",
    "        p = p + p_i\n",
    "    p = p + b\n",
    "    return p"
   ]
  },
  {
   "cell_type": "code",
   "execution_count": 45,
   "id": "a005b143",
   "metadata": {},
   "outputs": [
    {
     "name": "stdout",
     "output_type": "stream",
     "text": [
      "x_vec:\n",
      "[2104    5    1   45]\n",
      "x_vec.shape:\n",
      "(4,)\n",
      "prediction: 459.9999976194083\n"
     ]
    }
   ],
   "source": [
    "x_vec = X_train[0,:] #extracting 1 training example\n",
    "print(f\"x_vec:\\n{x_vec}\\nx_vec.shape:\\n{x_vec.shape}\")\n",
    "\n",
    "f_wb = predict_single_loop(x_vec,w_init,b_init) #result is scalar\n",
    "print(f\"prediction: {f_wb}\")"
   ]
  },
  {
   "cell_type": "code",
   "execution_count": 46,
   "id": "63d55046",
   "metadata": {},
   "outputs": [],
   "source": [
    "def predict(x, w, b):\n",
    "    p = np.dot(x,w) + b\n",
    "    return p"
   ]
  },
  {
   "cell_type": "code",
   "execution_count": 47,
   "id": "925fe6f5",
   "metadata": {},
   "outputs": [
    {
     "name": "stdout",
     "output_type": "stream",
     "text": [
      "prediction: 459.9999976194083\n"
     ]
    }
   ],
   "source": [
    "x_vec = X_train[0,:]\n",
    "f_wb = predict(x_vec,w_init,b_init)\n",
    "print(f\"prediction: {f_wb}\")"
   ]
  },
  {
   "cell_type": "code",
   "execution_count": 48,
   "id": "46cd097f",
   "metadata": {},
   "outputs": [],
   "source": [
    "#now lets compute cost J for multivars\n",
    "def compute_cost(x,y,w,b):\n",
    "    m = x.shape[0]\n",
    "    error = 0\n",
    "    cost = 0\n",
    "    for i in range(m):\n",
    "        f_wb_i = np.dot(x[i,:],w) + b #scalar\n",
    "        error = (f_wb_i - y[i])**2 #scalar\n",
    "        cost += error  #scalar\n",
    "    cost = cost/(2*m)\n",
    "    return cost"
   ]
  },
  {
   "cell_type": "code",
   "execution_count": 49,
   "id": "4968e04c",
   "metadata": {},
   "outputs": [
    {
     "name": "stdout",
     "output_type": "stream",
     "text": [
      "Optimum Cost: 1.5578904428966628e-12\n"
     ]
    }
   ],
   "source": [
    "cost = compute_cost(X_train,Y_train, w_init, b_init)\n",
    "print(f\"Optimum Cost: {cost}\")"
   ]
  },
  {
   "cell_type": "code",
   "execution_count": 52,
   "id": "3b0ef835",
   "metadata": {},
   "outputs": [],
   "source": [
    "def compute_gradient(X, y, w, b):\n",
    "    m, n = X.shape\n",
    "    dj_dw = np.zeros((n,)) #nafs 3adad el features\n",
    "    dj_db = 0.\n",
    "    #summation all over training examples\n",
    "    for i in range(m):\n",
    "        #Calculate training example error\n",
    "        err = (np.dot(X[i],w) + b) - y[i]\n",
    "        #Update all parameters\n",
    "        for j in range(n):\n",
    "            dj_dw[j] = dj_dw[j] + err * X[i,j]\n",
    "        #Update b\n",
    "        dj_db = dj_db + err\n",
    "    #keda m3ana el summations mt5azena f vector dj_dw w float dj_db\n",
    "    dj_dw = dj_dw / m\n",
    "    dj_db = dj_db / m\n",
    "    \n",
    "    return dj_dw, dj_db"
   ]
  },
  {
   "cell_type": "code",
   "execution_count": 53,
   "id": "0287e870",
   "metadata": {},
   "outputs": [
    {
     "name": "stdout",
     "output_type": "stream",
     "text": [
      "[-2.73e-03 -6.27e-06 -2.22e-06 -6.92e-05], -1.6739251501955248e-06\n"
     ]
    }
   ],
   "source": [
    "tmp_dj_dw, tmp_dj_db = compute_gradient(X_train, Y_train, w_init, b_init)\n",
    "print(f\"{tmp_dj_dw}, {tmp_dj_db}\")"
   ]
  },
  {
   "cell_type": "code",
   "execution_count": null,
   "id": "c2feb5ab",
   "metadata": {},
   "outputs": [],
   "source": []
  }
 ],
 "metadata": {
  "kernelspec": {
   "display_name": "Python 3",
   "language": "python",
   "name": "python3"
  },
  "language_info": {
   "codemirror_mode": {
    "name": "ipython",
    "version": 3
   },
   "file_extension": ".py",
   "mimetype": "text/x-python",
   "name": "python",
   "nbconvert_exporter": "python",
   "pygments_lexer": "ipython3",
   "version": "3.8.8"
  }
 },
 "nbformat": 4,
 "nbformat_minor": 5
}
